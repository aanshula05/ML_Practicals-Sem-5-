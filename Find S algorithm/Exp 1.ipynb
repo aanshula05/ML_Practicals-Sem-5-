{
 "cells": [
  {
   "cell_type": "markdown",
   "id": "2c6924bf",
   "metadata": {},
   "source": [
    "# FIND S ALGO"
   ]
  },
  {
   "cell_type": "code",
   "execution_count": 1,
   "id": "1ea9a6b9",
   "metadata": {},
   "outputs": [],
   "source": [
    "import pandas as pd\n",
    "import numpy as np\n",
    "%matplotlib inline\n",
    "import matplotlib.pyplot as plt"
   ]
  },
  {
   "cell_type": "code",
   "execution_count": 2,
   "id": "fd82c021",
   "metadata": {},
   "outputs": [
    {
     "data": {
      "text/html": [
       "<div>\n",
       "<style scoped>\n",
       "    .dataframe tbody tr th:only-of-type {\n",
       "        vertical-align: middle;\n",
       "    }\n",
       "\n",
       "    .dataframe tbody tr th {\n",
       "        vertical-align: top;\n",
       "    }\n",
       "\n",
       "    .dataframe thead th {\n",
       "        text-align: right;\n",
       "    }\n",
       "</style>\n",
       "<table border=\"1\" class=\"dataframe\">\n",
       "  <thead>\n",
       "    <tr style=\"text-align: right;\">\n",
       "      <th></th>\n",
       "      <th>sky</th>\n",
       "      <th>airtemp</th>\n",
       "      <th>humidity</th>\n",
       "      <th>wind</th>\n",
       "      <th>water</th>\n",
       "      <th>forcast</th>\n",
       "      <th>enjoysport</th>\n",
       "    </tr>\n",
       "  </thead>\n",
       "  <tbody>\n",
       "    <tr>\n",
       "      <th>0</th>\n",
       "      <td>sunny</td>\n",
       "      <td>warm</td>\n",
       "      <td>normal</td>\n",
       "      <td>strong</td>\n",
       "      <td>warm</td>\n",
       "      <td>same</td>\n",
       "      <td>yes</td>\n",
       "    </tr>\n",
       "    <tr>\n",
       "      <th>1</th>\n",
       "      <td>sunny</td>\n",
       "      <td>warm</td>\n",
       "      <td>high</td>\n",
       "      <td>strong</td>\n",
       "      <td>warm</td>\n",
       "      <td>same</td>\n",
       "      <td>yes</td>\n",
       "    </tr>\n",
       "    <tr>\n",
       "      <th>2</th>\n",
       "      <td>rainy</td>\n",
       "      <td>cold</td>\n",
       "      <td>high</td>\n",
       "      <td>strong</td>\n",
       "      <td>warm</td>\n",
       "      <td>change</td>\n",
       "      <td>no</td>\n",
       "    </tr>\n",
       "    <tr>\n",
       "      <th>3</th>\n",
       "      <td>sunny</td>\n",
       "      <td>warm</td>\n",
       "      <td>high</td>\n",
       "      <td>strong</td>\n",
       "      <td>cool</td>\n",
       "      <td>change</td>\n",
       "      <td>yes</td>\n",
       "    </tr>\n",
       "  </tbody>\n",
       "</table>\n",
       "</div>"
      ],
      "text/plain": [
       "     sky airtemp humidity    wind water forcast enjoysport\n",
       "0  sunny    warm   normal  strong  warm    same        yes\n",
       "1  sunny    warm     high  strong  warm    same        yes\n",
       "2  rainy    cold     high  strong  warm  change         no\n",
       "3  sunny    warm     high  strong  cool  change        yes"
      ]
     },
     "execution_count": 2,
     "metadata": {},
     "output_type": "execute_result"
    }
   ],
   "source": [
    "df = pd.read_csv('exp1.csv')\n",
    "df"
   ]
  },
  {
   "cell_type": "code",
   "execution_count": 5,
   "id": "c4cb4fdd",
   "metadata": {},
   "outputs": [
    {
     "name": "stdout",
     "output_type": "stream",
     "text": [
      "The attributes are: [['sunny' 'warm' 'normal' 'strong' 'warm' 'same']\n",
      " ['sunny' 'warm' 'high' 'strong' 'warm' 'same']\n",
      " ['rainy' 'cold' 'high' 'strong' 'warm' 'change']\n",
      " ['sunny' 'warm' 'high' 'strong' 'cool' 'change']]\n"
     ]
    }
   ],
   "source": [
    "a = np.array(df)[:,:-1]\n",
    "print('The attributes are:', a)"
   ]
  },
  {
   "cell_type": "code",
   "execution_count": 6,
   "id": "803fdefd",
   "metadata": {},
   "outputs": [
    {
     "name": "stdout",
     "output_type": "stream",
     "text": [
      "The target is: ['yes' 'yes' 'no' 'yes']\n"
     ]
    }
   ],
   "source": [
    "target = np.array(df)[:,-1]\n",
    "print('The target is:', target)"
   ]
  },
  {
   "cell_type": "code",
   "execution_count": 14,
   "id": "264f10a1",
   "metadata": {},
   "outputs": [],
   "source": [
    "def train(c,t):\n",
    "    for i, val in enumerate(t):\n",
    "        if val == 'yes':\n",
    "            specific_hypo = c[i].copy()\n",
    "            break\n",
    "    for i, val in enumerate(c):\n",
    "        if t[i]=='yes':\n",
    "            for x in range(len(specific_hypo)):\n",
    "                if val[x] != specific_hypo[x]:\n",
    "                    specific_hypo[x]='?'\n",
    "                else:\n",
    "                    pass\n",
    "    return specific_hypo"
   ]
  },
  {
   "cell_type": "code",
   "execution_count": 15,
   "id": "24387eeb",
   "metadata": {},
   "outputs": [
    {
     "name": "stdout",
     "output_type": "stream",
     "text": [
      "The final hypothesis is: ['sunny' 'warm' '?' 'strong' '?' '?']\n"
     ]
    }
   ],
   "source": [
    "print(\"The final hypothesis is:\",train(a,target))"
   ]
  },
  {
   "cell_type": "code",
   "execution_count": null,
   "id": "f28df94a",
   "metadata": {},
   "outputs": [],
   "source": []
  }
 ],
 "metadata": {
  "kernelspec": {
   "display_name": "Python 3 (ipykernel)",
   "language": "python",
   "name": "python3"
  },
  "language_info": {
   "codemirror_mode": {
    "name": "ipython",
    "version": 3
   },
   "file_extension": ".py",
   "mimetype": "text/x-python",
   "name": "python",
   "nbconvert_exporter": "python",
   "pygments_lexer": "ipython3",
   "version": "3.10.4"
  }
 },
 "nbformat": 4,
 "nbformat_minor": 5
}
